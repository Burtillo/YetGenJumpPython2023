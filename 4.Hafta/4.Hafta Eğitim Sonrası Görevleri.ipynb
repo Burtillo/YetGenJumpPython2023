{
 "cells": [
  {
   "cell_type": "markdown",
   "metadata": {},
   "source": [
    "# Problem 1\n",
    "`ogrenciler` adında bir sözlük oluşturunuz. Kullanıcıdan döngü yardımıyla 3 öğrenci için veri girmesini isteyerek öğrencilerin sırasıyla okul numarası, isim, soy isim, telefon numarası ve doğum tarihi bilgilerini alınız. Aldığınız öğrenci bilgilerini yine aynı döngü yardımıyla `ogrenciler` adındaki sözlükte saklayınız. Daha sonra öğrenci bilgilerinin bulunduğu sözlük yapısını ekrana bastırınız.\n",
    "\n"
   ]
  },
  {
   "cell_type": "code",
   "execution_count": 3,
   "metadata": {},
   "outputs": [
    {
     "name": "stdout",
     "output_type": "stream",
     "text": [
      "{0: {'Öğrenci Adı': 'Burak', 'Soyadı': 'Pıçakcı', 'Okul Numarası': 94, 'Telefon': 5050000000, 'Doğum Tarihi': '2002'}, 1: {'Öğrenci Adı': 'Ali', 'Soyadı': 'Vefa', 'Okul Numarası': 170, 'Telefon': 5450000000, 'Doğum Tarihi': '2003'}, 2: {'Öğrenci Adı': 'Ayşe', 'Soyadı': 'Kirazlı', 'Okul Numarası': 584, 'Telefon': 5310000000, 'Doğum Tarihi': '2004'}}\n"
     ]
    }
   ],
   "source": [
    "sayi = int(input(\"Kaç öğrencinin bilgisini gireceksiniz?\"))\n",
    "ogrenciler = {}\n",
    "\n",
    "for i in range(sayi):\n",
    "    no = int(input(\"Okul numarasını giriniz:\"))\n",
    "    isim = str(input(\"İsim giriniz:\"))\n",
    "    soyisim = str(input(\"Soyisim giriniz:\"))\n",
    "    tel = int(input(\"Telefon numarası giriniz:\"))\n",
    "    dogum = str(input(\"Doğum tarihi giriniz:\"))\n",
    "\n",
    "    ogrenciler[i] = {\n",
    "\n",
    "        'Öğrenci Adı': isim,\n",
    "        'Soyadı': soyisim,\n",
    "        \"Okul Numarası\": no, \n",
    "        'Telefon':tel,\n",
    "        \"Doğum Tarihi\": dogum\n",
    "    }\n",
    "\n",
    "print(ogrenciler)"
   ]
  },
  {
   "cell_type": "markdown",
   "metadata": {},
   "source": [
    "# Problem 2\n",
    "\n",
    "### a - Biraz ısınarak başlayalım!\n",
    "\n",
    "```\n",
    "numbers = [5,10,10,15,15,15,20,20,20,20]\n",
    "```\n",
    "\n",
    "Yukarıda `numbers` adında 10 elemanlı bir liste verilmiştir. Bu listenin her elemanını kontrol eden ve tekrar eden elemanları bir kez olacak şekilde başka bir listeye kopyalayan bir program yazınız. Son olarak oluşturduğunuz listeyi ekrana bastırınız.\n",
    "\n",
    "\n",
    "\n",
    "\n",
    "```\n",
    ">Output\n",
    "[5, 10, 15, 20]\n",
    "```\n"
   ]
  },
  {
   "cell_type": "code",
   "execution_count": 4,
   "metadata": {},
   "outputs": [
    {
     "name": "stdout",
     "output_type": "stream",
     "text": [
      "[5, 10, 15, 20]\n"
     ]
    }
   ],
   "source": [
    "numbers = [5,10,10,15,15,15,20,20,20,20]\n",
    "unique = []\n",
    "\n",
    "for number in numbers:\n",
    "    if number in unique:\n",
    "        continue\n",
    "    else:\n",
    "        unique.append(number)\n",
    "\n",
    "print(unique)"
   ]
  },
  {
   "cell_type": "markdown",
   "metadata": {},
   "source": [
    "### 🌶️ b) Hadi işi biraz daha zorlaştıralım! \n",
    "\n",
    "\n",
    "Şimdiyse senden `numbers` isimli listedeki tekrar eden elemanları `repeatNumbers` adındaki listeye; tekrar etmeyen elemanları `uniqueNumbers`adındaki listeye kopyalayan yazmanı ve listeleri ekrana bastırmanı bekliyoruz\n",
    "\n",
    "```\n",
    ">Output\n",
    "Tekrar Eden Elemanlar: [10, 10, 15, 15, 15, 20, 20, 20, 20]\n",
    "Tekrar Etmeyen Elemanlar: [5]\n",
    "```"
   ]
  },
  {
   "cell_type": "code",
   "execution_count": 6,
   "metadata": {},
   "outputs": [
    {
     "name": "stdout",
     "output_type": "stream",
     "text": [
      "Tekrar edenler [10, 10, 15, 15, 15, 20, 20, 20, 20]\n",
      "Tekrar etmeyenler [5]\n"
     ]
    }
   ],
   "source": [
    "numbers = [5,10,10,15,15,15,20,20,20,20]\n",
    "\n",
    "repeatNumbers = []\n",
    "uniqueNumbers = []\n",
    "\n",
    "for number in numbers:\n",
    "    if numbers.count(number) == 1:\n",
    "        uniqueNumbers.append(number)\n",
    "    else:\n",
    "        repeatNumbers.append(number)\n",
    "\n",
    "print(f\"Tekrar edenler {repeatNumbers}\")\n",
    "print(f\"Tekrar etmeyenler {uniqueNumbers}\")"
   ]
  },
  {
   "cell_type": "markdown",
   "metadata": {},
   "source": [
    "# Problem 3\n",
    "sn1 = {1,2,3,4,5}\n",
    "\n",
    "sn2 = {4,5,6,7,8}\n",
    "\n",
    " Verilen 2 adet küme için kesişimlerini, farklarını ve birleşimlerini bulunuz. "
   ]
  },
  {
   "cell_type": "code",
   "execution_count": 9,
   "metadata": {},
   "outputs": [
    {
     "name": "stdout",
     "output_type": "stream",
     "text": [
      "{4, 5}\n",
      "{1, 2, 3}\n",
      "{8, 6, 7}\n",
      "{1, 2, 3, 4, 5, 6, 7, 8}\n"
     ]
    }
   ],
   "source": [
    "sn1 = {1,2,3,4,5}\n",
    "sn2 = {4,5,6,7,8}\n",
    "\n",
    "#Kümelerin kesişimleri:\n",
    "\n",
    "print(sn1.intersection(sn2))\n",
    "\n",
    "#Kümelerin farkları:\n",
    "\n",
    "print(sn1.difference(sn2)) #1.nin 2.den farkı\n",
    "print(sn2.difference(sn1)) #2.nin 1.den farkı\n",
    "\n",
    "#Kümelerin birleşimleri:\n",
    "\n",
    "print(sn1.union(sn2))"
   ]
  },
  {
   "cell_type": "markdown",
   "metadata": {},
   "source": [
    "# Problem 4\n",
    "\n",
    "Buradaki işlemlerimizin tamamı stringler içindir. Aşağıda verilecek olan metodlar için kendinizin örnek yaratması gerekmektedir. \n",
    "\n",
    "Örneğin `upper` için `string` değişkeni oluştururken` k = \"BAC\"` şeklinde oluşturmayınız. Bunun yerine k değişkenini `k = \"bac`\" şeklinde oluşturmanız `upper` metodundaki değişimi görebilmeniz için daha iyi olacaktır.\n",
    "\n",
    "Bütün metodlardaki değişimin gözle görülür şekilde değişimi beklenmektedir.\n",
    "\n",
    "\n",
    "1- capitalize(), lower(), upper(), swapcase(), title(), replace()\n",
    "\n",
    "2- endswith(), startswith(), find(), index(), count()\n",
    "\n",
    "3- split(), strip(), join(), islower(), isalpha(), isdigit()\n",
    "\n",
    "\n",
    "Yukarıdaki `string` metodlarındaki değişimleri görebildiğimiz bir program yazınız.\n"
   ]
  },
  {
   "cell_type": "code",
   "execution_count": 14,
   "metadata": {},
   "outputs": [
    {
     "name": "stdout",
     "output_type": "stream",
     "text": [
      "Aynıı beyaa, yuvarlanıp gidiyoruz.\n",
      "aynıı beyaa, yuvarlanıp gidiyoruz.\n",
      "AYNII BEYAA, YUVARLANIP GIDIYORUZ.\n",
      "bUGÜN NASILSINIZ EFENIM?\n",
      "her zamanki beyaa, Yuvarlanıp Gidiyoruz.\n",
      "****************\n",
      "False\n",
      "True\n",
      "17\n",
      "13\n",
      "5\n",
      "****************\n",
      "['Bugün', 'nasılsınız', 'efenim?']\n",
      "sjhsjhsjh\n",
      "B*u*g*ü*n* *n*a*s*ı*l*s*ı*n*ı*z* *e*f*e*n*i*m*?\n",
      "True\n",
      "True\n",
      "True\n"
     ]
    }
   ],
   "source": [
    "selam = \"Bugün nasılsınız efenim?\"\n",
    "cevap = \"aynıı beyaa, Yuvarlanıp Gidiyoruz.\" \n",
    "sayi = \"282956790\"\n",
    "#1.KISIM\n",
    "print(cevap.capitalize())\n",
    "print(cevap.lower())\n",
    "print(cevap.upper())\n",
    "print(selam.swapcase())\n",
    "print(cevap.replace(\"aynıı\",\"her zamanki\"))\n",
    "print(\"****************\")\n",
    "#2.KISIM\n",
    "print(cevap.endswith(\"z\"))\n",
    "print(selam.startswith(\"B\"))\n",
    "print(selam.find(\"efenim\"))\n",
    "print(cevap.index(\"Yuvarlanıp\"))\n",
    "print(cevap.count(\"a\"))\n",
    "print(\"****************\")\n",
    "#3.KISIM\n",
    "print(selam.split(\" \"))\n",
    "print(\" sjhsjhsjh \".strip())\n",
    "print(\"*\".join(selam))\n",
    "print(\"selam babalık\".islower())\n",
    "print(\"abcd\".isalpha())\n",
    "print(sayi.isdigit())"
   ]
  }
 ],
 "metadata": {
  "kernelspec": {
   "display_name": "Python 3.10.5 64-bit",
   "language": "python",
   "name": "python3"
  },
  "language_info": {
   "codemirror_mode": {
    "name": "ipython",
    "version": 3
   },
   "file_extension": ".py",
   "mimetype": "text/x-python",
   "name": "python",
   "nbconvert_exporter": "python",
   "pygments_lexer": "ipython3",
   "version": "3.11.1"
  },
  "orig_nbformat": 4,
  "vscode": {
   "interpreter": {
    "hash": "5026d2d6e7aaaaba093def813beadff083d8733e4a511af01735cbabd156995d"
   }
  }
 },
 "nbformat": 4,
 "nbformat_minor": 2
}
